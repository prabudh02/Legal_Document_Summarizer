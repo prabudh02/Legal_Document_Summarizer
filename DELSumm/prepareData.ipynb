{
 "cells": [
  {
   "cell_type": "code",
   "execution_count": 1,
   "id": "5cd57473",
   "metadata": {},
   "outputs": [],
   "source": [
    "import sys, os\n",
    "import nltk\n",
    "import json"
   ]
  },
  {
   "cell_type": "code",
   "execution_count": 2,
   "id": "ab403aab",
   "metadata": {},
   "outputs": [],
   "source": [
    "BASEPATH = \"docs\"\n",
    "writepath = \"processed\""
   ]
  },
  {
   "cell_type": "code",
   "execution_count": 3,
   "id": "fcc3c3b1",
   "metadata": {},
   "outputs": [],
   "source": [
    "separator = \"\\t\"\n",
    "\n",
    "FILES = []\n",
    "FILES2 = os.listdir(BASEPATH)\n",
    "for f in FILES2:\n",
    "        FILES.append(f)\n",
    "DATA_FILES = {}"
   ]
  },
  {
   "cell_type": "code",
   "execution_count": 4,
   "id": "4e04d486",
   "metadata": {},
   "outputs": [
    {
     "data": {
      "text/plain": [
       "['1253.txt', '4042.txt', '899.txt']"
      ]
     },
     "execution_count": 4,
     "metadata": {},
     "output_type": "execute_result"
    }
   ],
   "source": [
    "FILES"
   ]
  },
  {
   "cell_type": "code",
   "execution_count": 5,
   "id": "8d9989ff",
   "metadata": {},
   "outputs": [
    {
     "name": "stdout",
     "output_type": "stream",
     "text": [
      "Complete 1253.txt\n",
      "Complete 4042.txt\n",
      "Complete 899.txt\n"
     ]
    }
   ],
   "source": [
    "for F in FILES:\n",
    "    ifname = os.path.join(BASEPATH,F)\n",
    "    \n",
    "    #print(F)\n",
    "    fp = open(ifname,'r')\n",
    "    dic = {}\n",
    "    for l in fp:\n",
    "        try:\n",
    "            wl = l.split(separator)\n",
    "            CL = wl[1].strip(' \\t\\n\\r')\n",
    "            TEXT = wl[0].strip(' \\t\\n\\r')\n",
    "            TEXT = TEXT.replace(\"sino noindex makedatabase footer start url\", \"\")\n",
    "            if TEXT:\n",
    "                if dic.__contains__(CL)==True:\n",
    "                    temp = dic[CL]\n",
    "                    temp.append(TEXT)\n",
    "                    dic[CL] = temp\n",
    "                else:\n",
    "                    dic[CL] = [TEXT]\n",
    "        except Exception as e:\n",
    "            print(e)\n",
    "    \n",
    "    f_d = {}\n",
    "    for cl,sentences in dic.items():\n",
    "        temp = []\n",
    "        for s in sentences:\n",
    "            tokens = nltk.word_tokenize(s)\n",
    "            t = (s,tokens,nltk.pos_tag(tokens))\n",
    "            temp.append(t)\n",
    "        f_d[cl] = temp\n",
    "\n",
    "    DATA_FILES[F.split('.txt')[0].strip(' \\t\\n\\r')] = f_d\n",
    "    print('Complete {}'.format(F))"
   ]
  },
  {
   "cell_type": "code",
   "execution_count": 6,
   "id": "769924c9",
   "metadata": {},
   "outputs": [],
   "source": [
    "with open('prepared_data.json','w') as legal_f:\n",
    "    json.dump(DATA_FILES,legal_f,indent=4)"
   ]
  },
  {
   "cell_type": "code",
   "execution_count": null,
   "id": "f791c53e",
   "metadata": {},
   "outputs": [],
   "source": []
  }
 ],
 "metadata": {
  "kernelspec": {
   "display_name": "Python 3",
   "language": "python",
   "name": "python3"
  },
  "language_info": {
   "codemirror_mode": {
    "name": "ipython",
    "version": 3
   },
   "file_extension": ".py",
   "mimetype": "text/x-python",
   "name": "python",
   "nbconvert_exporter": "python",
   "pygments_lexer": "ipython3",
   "version": "3.12.5"
  }
 },
 "nbformat": 4,
 "nbformat_minor": 5
}
